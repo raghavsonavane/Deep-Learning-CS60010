{
 "cells": [
  {
   "cell_type": "code",
   "execution_count": 35,
   "metadata": {},
   "outputs": [],
   "source": [
    "import argparse\n",
    "import numpy as np\n",
    "import mxnet as mx\n",
    "import data_loader as dl\n",
    "import module\n",
    "import os\n",
    "from mxnet import nd, autograd, gluon\n",
    "from mxnet.gluon import nn\n",
    "from mxnet.gluon.data import vision\n",
    "from multiprocessing import cpu_count\n",
    "mx.random.seed(42)\n",
    "import matplotlib.pyplot as plt\n",
    "\n",
    "#os.listdir()"
   ]
  },
  {
   "cell_type": "code",
   "execution_count": 22,
   "metadata": {},
   "outputs": [],
   "source": [
    "def transform(data, label):\n",
    "    data = data.astype('float32')/255\n",
    "    return data, label\n",
    "\n",
    "def shuffle_dataset(X,Y):\n",
    "    \n",
    "    '''\n",
    "        Write code to shuffle the dataset here. \n",
    "        \n",
    "        Args: \n",
    "            X: Input feature ndarray\n",
    "            Y: Input values ndarray\n",
    "            \n",
    "        Return:\n",
    "            X and Y shuffled in place\n",
    "    \n",
    "    '''\n",
    "    r = np.arange(len(X))\n",
    "    np.random.shuffle(r)\n",
    "    X = X[r]\n",
    "    Y = Y[r]\n",
    "    return (X,Y)\n",
    "    pass\n",
    "\n",
    "class DataIterLoader():\n",
    "    def __init__(self, data_iter):\n",
    "        self.data_iter = data_iter\n",
    "\n",
    "    def __iter__(self):\n",
    "        self.data_iter.reset()\n",
    "        return self\n",
    "\n",
    "    def __next__(self):\n",
    "        batch = self.data_iter.__next__()\n",
    "        assert len(batch.data) == len(batch.label) == 1\n",
    "        data = batch.data[0]\n",
    "        label = batch.label[0]\n",
    "        return data, label\n",
    "    \n"
   ]
  },
  {
   "cell_type": "code",
   "execution_count": 23,
   "metadata": {},
   "outputs": [],
   "source": [
    "(train_images,train_labels)=dl.DataLoader().load_data('train')\n",
    "(test_images,test_labels)=dl.DataLoader().load_data('test')\n",
    "batch_size=32\n",
    "\n",
    "ntrain=int(0.7*len(train_images))\n",
    "#Mapping 0-255 intensity scale to 0-1 (without batch normalization)\n",
    "train_iter = mx.io.NDArrayIter(train_images[:ntrain, :]/255, train_labels[:ntrain], batch_size, shuffle=True)\n",
    "val_iter = mx.io.NDArrayIter(train_images[ntrain:, :]/255, train_labels[ntrain:], batch_size)\n",
    "test_iter = mx.io.NDArrayIter(test_images/255, test_labels, batch_size)\n",
    "\n",
    "train_loader = DataIterLoader(train_iter)\n",
    "val_loader = DataIterLoader(val_iter)\n",
    "test_loader = DataIterLoader(test_iter)"
   ]
  },
  {
   "cell_type": "code",
   "execution_count": 24,
   "metadata": {},
   "outputs": [],
   "source": [
    "# data_loader=mx.gluon.data.dataset.ArrayDataset(X_train,Y_train)\n",
    "# train_loader=mx.gluon.data.DataLoader(train_loader, batch_size=5, num_workers=cpu_count())\n",
    "\n",
    "net1 = nn.HybridSequential()\n",
    "\n",
    "with net1.name_scope():\n",
    "    net1.add(\n",
    "        #nn.BatchNorm(axis=1, center=True, scale=True)\n",
    "        nn.Dense(512, activation='relu'),\n",
    "        #nn.BatchNorm(axis=1, center=True, scale=True)\n",
    "        nn.Dense(128, activation='relu'),\n",
    "        #nn.BatchNorm(axis=1, center=True, scale=True)\n",
    "        nn.Dense(64, activation='relu'),\n",
    "        #nn.BatchNorm(axis=1, center=True, scale=True)\n",
    "        nn.Dense(32, activation='relu'),\n",
    "        #nn.BatchNorm(axis=1, center=True, scale=True)\n",
    "        nn.Dense(16, activation='relu'),\n",
    "        #nn.BatchNorm(axis=1, center=True, scale=True)\n",
    "        nn.Dense(10, activation=None)  # loss function includes softmax already, see below\n",
    "    )\n",
    "net1.hybridize()"
   ]
  },
  {
   "cell_type": "code",
   "execution_count": 25,
   "metadata": {},
   "outputs": [],
   "source": [
    "net2 = nn.HybridSequential()\n",
    "\n",
    "with net2.name_scope():\n",
    "    net2.add(\n",
    "        nn.Dense(1024, activation='relu'),\n",
    "        nn.Dense(512, activation='relu'),\n",
    "        nn.Dense(256, activation='relu'),\n",
    "        nn.Dense(10, activation=None)  # loss function includes softmax already, see below\n",
    "    )\n",
    "net2.hybridize()"
   ]
  },
  {
   "cell_type": "code",
   "execution_count": 28,
   "metadata": {},
   "outputs": [],
   "source": [
    "def neural_net_training(net,trainer,ctx):\n",
    "    epochs = 10\n",
    "    train_loss_history = []\n",
    "    val_loss_history = []\n",
    "    train_acc_history = []\n",
    "    val_acc_history = []\n",
    "    epoch_history = []\n",
    "    for epoch in range(epochs):\n",
    "        # training loop (with autograd and trainer steps, etc.)\n",
    "        cumulative_train_loss = mx.nd.zeros(1, ctx=ctx)\n",
    "        training_samples = 0\n",
    "        for batch_idx, (data, label) in enumerate(train_loader):\n",
    "            data = data.as_in_context(ctx).reshape((-1, 784)) # 28*28=784\n",
    "            label = label.as_in_context(ctx)\n",
    "            with autograd.record():\n",
    "                output = net(data)\n",
    "                loss = loss_function(output, label)\n",
    "            loss.backward()\n",
    "            metric.update(label, output)\n",
    "            trainer.step(data.shape[0])\n",
    "            cumulative_train_loss += loss.sum()\n",
    "            training_samples += data.shape[0]\n",
    "\n",
    "\n",
    "        train_loss = cumulative_train_loss.asscalar()/training_samples\n",
    "        train_name, train_acc = metric.get()\n",
    "        #print('After epoch {}: {} = {}'.format(epoch + 1, name, acc))\n",
    "        metric.reset()\n",
    "\n",
    "        # validation loop\n",
    "        cumulative_val_loss = mx.nd.zeros(1, ctx)\n",
    "        val_samples = 0\n",
    "        for batch_idx, (data, label) in enumerate(val_loader):\n",
    "            data = data.as_in_context(ctx).reshape((-1, 784)) # 28*28=784\n",
    "            label = label.as_in_context(ctx)\n",
    "            output = net(data)\n",
    "            loss = loss_function(output, label)\n",
    "            cumulative_val_loss += loss.sum()\n",
    "            val_samples += data.shape[0]\n",
    "            metric.update(label, output)\n",
    "        val_loss = cumulative_val_loss.asscalar()/val_samples\n",
    "        val_name, val_acc = metric.get()\n",
    "        metric.reset()\n",
    "\n",
    "        print(\"Epoch {}, training loss: {:.2f}, validation loss: {:.2f}\".format(epoch, train_loss, val_loss))\n",
    "        print(\"training accuracy: {}, validation accuracy: {}\".format(train_acc,val_acc))\n",
    "        train_loss_history.append(train_loss)\n",
    "        val_loss_history.append(val_loss)\n",
    "        train_acc_history.append(train_acc)\n",
    "        val_acc_history.append(val_acc)\n",
    "        epoch_history.append(epoch+1)\n",
    "#     plt.plot(epoch_history, train_loss_history, epoch_history, val_loss_history )\n",
    "#     plt.title('Loss')\n",
    "#     plt.show()\n",
    "\n",
    "#     plt.plot(epoch_history, train_acc_history, epoch_history, val_acc_history )\n",
    "#     plt.title('Accuracy')\n",
    "#     plt.show()\n",
    "    return epoch_history,train_loss_history,val_loss_history,train_acc_history,val_acc_history\n",
    "\n",
    "    pass"
   ]
  },
  {
   "cell_type": "code",
   "execution_count": 29,
   "metadata": {},
   "outputs": [],
   "source": [
    "def neural_net_testing(net,ctx):\n",
    "    cumulative_test_loss = mx.nd.zeros(1, ctx)\n",
    "    test_samples = 0\n",
    "    for batch_idx, (data, label) in enumerate(test_loader):\n",
    "            data = data.as_in_context(ctx).reshape((-1, 784)) # 28*28=784\n",
    "            label = label.as_in_context(ctx)\n",
    "            output = net(data)\n",
    "            loss = loss_function(output, label)\n",
    "            cumulative_test_loss += loss.sum()\n",
    "            test_samples += data.shape[0]\n",
    "            metric.update(label, output)\n",
    "    test_loss = cumulative_test_loss.asscalar()/test_samples\n",
    "    test_name, test_acc = metric.get()\n",
    "    print(\"Final testing loss: {:.2f}\".format(test_loss))\n",
    "    print(\"testing accuracy: {}\".format(test_acc))\n",
    "    pass"
   ]
  },
  {
   "cell_type": "code",
   "execution_count": 30,
   "metadata": {},
   "outputs": [
    {
     "name": "stdout",
     "output_type": "stream",
     "text": [
      "Epoch 0, training loss: 2.30, validation loss: 2.29\n",
      "training accuracy: 0.10812547600913938, validation accuracy: 0.0970803730017762\n",
      "Epoch 1, training loss: 1.50, validation loss: 0.96\n",
      "training accuracy: 0.4119383092155369, validation accuracy: 0.6388765541740675\n",
      "Epoch 2, training loss: 0.79, validation loss: 0.68\n",
      "training accuracy: 0.7026846915460777, validation accuracy: 0.7011545293072824\n",
      "Epoch 3, training loss: 0.59, validation loss: 0.53\n",
      "training accuracy: 0.783987052551409, validation accuracy: 0.8195492895204263\n",
      "Epoch 4, training loss: 0.46, validation loss: 0.45\n",
      "training accuracy: 0.8327303884234577, validation accuracy: 0.8430284191829485\n",
      "Epoch 5, training loss: 0.40, validation loss: 0.44\n",
      "training accuracy: 0.8546506092916984, validation accuracy: 0.8489120781527532\n",
      "Epoch 6, training loss: 0.37, validation loss: 0.43\n",
      "training accuracy: 0.8664318354912415, validation accuracy: 0.8541296625222025\n",
      "Epoch 7, training loss: 0.34, validation loss: 0.41\n",
      "training accuracy: 0.8752856054836253, validation accuracy: 0.8601243339253997\n",
      "Epoch 8, training loss: 0.32, validation loss: 0.45\n",
      "training accuracy: 0.8824495430312262, validation accuracy: 0.8531305506216696\n",
      "Epoch 9, training loss: 0.30, validation loss: 0.57\n",
      "training accuracy: 0.8883044554455446, validation accuracy: 0.8328152753108348\n",
      "Final testing loss: 0.60\n",
      "testing accuracy: 0.8242811501597445\n"
     ]
    }
   ],
   "source": [
    "ctx = mx.gpu(0) if mx.context.num_gpus() > 0 else mx.cpu(0)\n",
    "\n",
    "net1.initialize(mx.init.Uniform(),ctx=ctx,force_reinit=True)\n",
    "trainer1 = gluon.Trainer(\n",
    "    params=net1.collect_params(),\n",
    "    optimizer='sgd',\n",
    "    optimizer_params={'learning_rate': 0.04},\n",
    ")\n",
    "\n",
    "# optimizer_paramsSoftmaxCrossEntropyLoss combines the softmax activation and the cross entropy loss \n",
    "# function in one layer, therefore the last layer in our network has no activation function.\n",
    "\n",
    "metric = mx.metric.Accuracy()\n",
    "loss_function = gluon.loss.SoftmaxCrossEntropyLoss()\n",
    "epoch_history,train_loss_history,val_loss_history,train_acc_history,val_acc_history = neural_net_training(net1,trainer1,ctx)\n",
    "neural_net_testing(net1,ctx)"
   ]
  },
  {
   "cell_type": "code",
   "execution_count": 31,
   "metadata": {},
   "outputs": [
    {
     "data": {
      "image/png": "[encoded data removed]",
      "text/plain": [
       "<Figure size 432x288 with 1 Axes>"
      ]
     },
     "metadata": {},
     "output_type": "display_data"
    },
    {
     "data": {
      "image/png": "[encoded data removed]",
      "text/plain": [
       "<Figure size 432x288 with 1 Axes>"
      ]
     },
     "metadata": {},
     "output_type": "display_data"
    }
   ],
   "source": [
    "filename='vanilla_net1.params'\n",
    "net1.save_parameters(filename)\n",
    "plt.plot(epoch_history, train_loss_history, epoch_history, val_loss_history )\n",
    "plt.title('vanilla_net1_loss')\n",
    "plt.savefig('vanilla_net1_loss.png')\n",
    "plt.show()\n",
    "\n",
    "plt.plot(epoch_history, train_acc_history, epoch_history, val_acc_history )\n",
    "plt.title('vanilla_net1_accuarcy')\n",
    "plt.savefig('vanilla_net1_accuarcy.png')\n",
    "plt.show()"
   ]
  },
  {
   "cell_type": "code",
   "execution_count": 32,
   "metadata": {},
   "outputs": [
    {
     "name": "stdout",
     "output_type": "stream",
     "text": [
      "Epoch 0, training loss: 0.63, validation loss: 0.46\n",
      "training accuracy: 0.7757044935262757, validation accuracy: 0.8284302841918295\n",
      "Epoch 1, training loss: 0.42, validation loss: 0.39\n",
      "training accuracy: 0.8503189261233816, validation accuracy: 0.8554618117229129\n",
      "Epoch 2, training loss: 0.37, validation loss: 0.37\n",
      "training accuracy: 0.8665984386900228, validation accuracy: 0.8648978685612788\n",
      "Epoch 3, training loss: 0.33, validation loss: 0.36\n",
      "training accuracy: 0.8771420411271896, validation accuracy: 0.8689498223801065\n",
      "Epoch 4, training loss: 0.31, validation loss: 0.35\n",
      "training accuracy: 0.8853055978674791, validation accuracy: 0.8733348134991119\n",
      "Epoch 5, training loss: 0.29, validation loss: 0.34\n",
      "training accuracy: 0.8924457349581112, validation accuracy: 0.8766096802841918\n",
      "Epoch 6, training loss: 0.27, validation loss: 0.33\n",
      "training accuracy: 0.9001094821020563, validation accuracy: 0.8792184724689165\n",
      "Epoch 7, training loss: 0.25, validation loss: 0.33\n",
      "training accuracy: 0.9070354150799695, validation accuracy: 0.8818272646536413\n",
      "Epoch 8, training loss: 0.24, validation loss: 0.33\n",
      "training accuracy: 0.9127951256664127, validation accuracy: 0.8834924511545293\n",
      "Epoch 9, training loss: 0.22, validation loss: 0.33\n",
      "training accuracy: 0.9184834348819497, validation accuracy: 0.8834924511545293\n",
      "Final testing loss: 0.36\n",
      "testing accuracy: 0.8757987220447284\n"
     ]
    }
   ],
   "source": [
    "ctx = mx.gpu(0) if mx.context.num_gpus() > 0 else mx.cpu(0)\n",
    "\n",
    "net2.initialize(mx.init.Uniform(),ctx=ctx,force_reinit=True)\n",
    "trainer2 = gluon.Trainer(\n",
    "    params=net2.collect_params(),\n",
    "    optimizer='sgd',\n",
    "    optimizer_params={'learning_rate': 0.04},\n",
    ")\n",
    "\n",
    "# optimizer_paramsSoftmaxCrossEntropyLoss combines the softmax activation and the cross entropy loss \n",
    "# function in one layer, therefore the last layer in our network has no activation function.\n",
    "\n",
    "metric = mx.metric.Accuracy()\n",
    "loss_function = gluon.loss.SoftmaxCrossEntropyLoss()\n",
    "epoch_history,train_loss_history,val_loss_history,train_acc_history,val_acc_history = neural_net_training(net2,trainer2,ctx)\n",
    "neural_net_testing(net2,ctx)"
   ]
  },
  {
   "cell_type": "code",
   "execution_count": 37,
   "metadata": {},
   "outputs": [
    {
     "data": {
      "image/png": "[encoded data removed]",
      "text/plain": [
       "<Figure size 432x288 with 1 Axes>"
      ]
     },
     "metadata": {},
     "output_type": "display_data"
    },
    {
     "data": {
      "image/png": "[encoded data removed]",
      "text/plain": [
       "<Figure size 432x288 with 1 Axes>"
      ]
     },
     "metadata": {},
     "output_type": "display_data"
    }
   ],
   "source": [
    "filename='vanilla_net2'\n",
    "net2.export(filename)\n",
    "plt.plot(epoch_history, train_loss_history, epoch_history, val_loss_history )\n",
    "plt.title('vanilla_net2 Loss')\n",
    "plt.savefig('vanilla_net2_loss.png')\n",
    "plt.show()\n",
    "\n",
    "plt.plot(epoch_history, train_acc_history, epoch_history, val_acc_history )\n",
    "plt.title('vanilla_net2 Accuracy')\n",
    "plt.savefig('vanilla_net2_accuarcy.png')\n",
    "plt.show()"
   ]
  }
 ],
 "metadata": {
  "kernelspec": {
   "display_name": "Python 3",
   "language": "python",
   "name": "python3"
  },
  "language_info": {
   "codemirror_mode": {
    "name": "ipython",
    "version": 3
   },
   "file_extension": ".py",
   "mimetype": "text/x-python",
   "name": "python",
   "nbconvert_exporter": "python",
   "pygments_lexer": "ipython3",
   "version": "3.6.5"
  }
 },
 "nbformat": 4,
 "nbformat_minor": 2
}
