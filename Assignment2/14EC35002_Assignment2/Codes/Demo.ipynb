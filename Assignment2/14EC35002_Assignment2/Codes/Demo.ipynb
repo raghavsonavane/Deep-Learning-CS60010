{
 "cells": [
  {
   "cell_type": "code",
   "execution_count": 4,
   "metadata": {},
   "outputs": [],
   "source": [
    "import mxnet as mx\n",
    "import os\n",
    "import tarfile\n",
    "import numpy as np\n",
    "from multiprocessing import cpu_count\n",
    "CPU_COUNT = cpu_count()\n"
   ]
  },
  {
   "cell_type": "code",
   "execution_count": 6,
   "metadata": {},
   "outputs": [],
   "source": [
    "def transform(data, label):\n",
    "    data = data.astype('float32')/255\n",
    "    return data, label\n",
    "\n",
    "train_dataset = mx.gluon.data.vision.datasets.FashionMNIST(train=True, transform=transform)\n",
    "valid_dataset = mx.gluon.data.vision.datasets.FashionMNIST(train=False, transform=transform)\n",
    "batch_size = 32\n",
    "train_data_loader = mx.gluon.data.DataLoader(train_dataset, batch_size, shuffle=True, num_workers=CPU_COUNT)\n",
    "valid_data_loader = mx.gluon.data.DataLoader(valid_dataset, batch_size, num_workers=CPU_COUNT)"
   ]
  },
  {
   "cell_type": "code",
   "execution_count": 7,
   "metadata": {},
   "outputs": [],
   "source": [
    "from mxnet import gluon, autograd, ndarray\n",
    "\n",
    "def construct_net():\n",
    "    net = gluon.nn.HybridSequential()\n",
    "    with net.name_scope():\n",
    "        net.add(gluon.nn.Dense(128, activation=\"relu\"))\n",
    "        net.add(gluon.nn.Dense(64, activation=\"relu\"))\n",
    "        net.add(gluon.nn.Dense(10))\n",
    "    return net\n",
    "\n",
    "# construct and initialize network.\n",
    "ctx =  mx.gpu() if mx.test_utils.list_gpus() else mx.cpu()\n",
    "\n",
    "net = construct_net()\n",
    "net.hybridize()\n",
    "net.initialize(mx.init.Xavier(), ctx=ctx)\n",
    "# define loss and trainer.\n",
    "criterion = gluon.loss.SoftmaxCrossEntropyLoss()\n",
    "trainer = gluon.Trainer(net.collect_params(), 'sgd', {'learning_rate': 0.1})"
   ]
  },
  {
   "cell_type": "code",
   "execution_count": 8,
   "metadata": {},
   "outputs": [
    {
     "name": "stdout",
     "output_type": "stream",
     "text": [
      "Epoch 0, training loss: 0.55, validation loss: 0.47\n",
      "Epoch 1, training loss: 0.40, validation loss: 0.37\n",
      "Epoch 2, training loss: 0.36, validation loss: 0.37\n",
      "Epoch 3, training loss: 0.33, validation loss: 0.35\n",
      "Epoch 4, training loss: 0.32, validation loss: 0.32\n"
     ]
    }
   ],
   "source": [
    "epochs = 5\n",
    "for epoch in range(epochs):\n",
    "    # training loop (with autograd and trainer steps, etc.)\n",
    "    cumulative_train_loss = mx.nd.zeros(1, ctx=ctx)\n",
    "    training_samples = 0\n",
    "    for batch_idx, (data, label) in enumerate(train_data_loader):\n",
    "        data = data.as_in_context(ctx).reshape((-1, 784)) # 28*28=784\n",
    "        label = label.as_in_context(ctx)\n",
    "        with autograd.record():\n",
    "            output = net(data)\n",
    "            loss = criterion(output, label)\n",
    "            \n",
    "        loss.backward()\n",
    "        trainer.step(data.shape[0])\n",
    "        cumulative_train_loss += loss.sum()\n",
    "        training_samples += data.shape[0]\n",
    "    train_loss = cumulative_train_loss.asscalar()/training_samples\n",
    "\n",
    "    # validation loop\n",
    "    cumulative_valid_loss = mx.nd.zeros(1, ctx)\n",
    "    valid_samples = 0\n",
    "    for batch_idx, (data, label) in enumerate(valid_data_loader):\n",
    "        data = data.as_in_context(ctx).reshape((-1, 784)) # 28*28=784\n",
    "        label = label.as_in_context(ctx)\n",
    "        output = net(data)\n",
    "        loss = criterion(output, label)\n",
    "        cumulative_valid_loss += loss.sum()\n",
    "        valid_samples += data.shape[0]\n",
    "    valid_loss = cumulative_valid_loss.asscalar()/valid_samples\n",
    "\n",
    "    print(\"Epoch {}, training loss: {:.2f}, validation loss: {:.2f}\".format(epoch, train_loss, valid_loss))"
   ]
  }
 ],
 "metadata": {
  "kernelspec": {
   "display_name": "Python 3",
   "language": "python",
   "name": "python3"
  },
  "language_info": {
   "codemirror_mode": {
    "name": "ipython",
    "version": 3
   },
   "file_extension": ".py",
   "mimetype": "text/x-python",
   "name": "python",
   "nbconvert_exporter": "python",
   "pygments_lexer": "ipython3",
   "version": "3.6.5"
  }
 },
 "nbformat": 4,
 "nbformat_minor": 2
}
